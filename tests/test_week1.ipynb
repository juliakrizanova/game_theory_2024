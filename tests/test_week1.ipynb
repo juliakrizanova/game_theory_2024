{
 "cells": [
  {
   "cell_type": "code",
   "execution_count": 100,
   "id": "1e68843c-4ad9-42dd-930e-cfc4c6220b20",
   "metadata": {},
   "outputs": [],
   "source": [
    "%reload_ext autoreload\n",
    "%autoreload 2\n",
    "import numpy as np\n",
    "from pathlib import Path\n",
    "import sys\n",
    "\n",
    "module_path = Path(\"/home/juliakrizanova/Documents/mgr_mff_1/game_theory_2024/libs\")\n",
    "sys.path.append(str(module_path))\n",
    "\n",
    "import week1"
   ]
  },
  {
   "cell_type": "code",
   "execution_count": 101,
   "id": "8a0de39d-8edb-48c3-b414-ad7e8840ec7e",
   "metadata": {},
   "outputs": [],
   "source": [
    "np.set_printoptions(precision=3)"
   ]
  },
  {
   "cell_type": "code",
   "execution_count": 102,
   "id": "84adf623-c107-4785-be48-7a49482214d0",
   "metadata": {},
   "outputs": [
    {
     "name": "stdout",
     "output_type": "stream",
     "text": [
      "Utilities: -1.000, -1.900\n"
     ]
    }
   ],
   "source": [
    "# Payoff matrices for the Prisoners' Dilemma game\n",
    "matrix1 = np.array([[-1, -3], [0, -2]], dtype=np.float32)\n",
    "matrix2 = np.array([[-1, 0], [-3, -2]], dtype=np.float32)\n",
    "\n",
    "# Strategies for the players\n",
    "row_strategy = np.array([0.4, 0.6], dtype=np.float32)\n",
    "col_strategy = np.array([0.7, 0.3], dtype=np.float32)\n",
    "\n",
    "row_util, col_util = week1.evaluate_pair(row_strategy, col_strategy, matrix1, matrix2)\n",
    "print(f'Utilities: {row_util:.3f}, {col_util:.3f}')"
   ]
  },
  {
   "cell_type": "code",
   "execution_count": 103,
   "id": "506c2c6e-2f28-4175-b1af-f34ffbbb35a7",
   "metadata": {},
   "outputs": [
    {
     "name": "stdout",
     "output_type": "stream",
     "text": [
      "Utilities: -0.080, 0.080\n"
     ]
    }
   ],
   "source": [
    "# Payoff matrix for the row player in the Rock-Paper-Scissors game\n",
    "matrix = np.array([[0, -1, 1], [1, 0, -1], [-1, 1, 0]], dtype=np.float32)\n",
    "\n",
    "# Strategies for the players\n",
    "row_strategy = np.array([0.1, 0.2, 0.7], dtype=np.float32)\n",
    "col_strategy = np.array([0.3, 0.2, 0.5], dtype=np.float32)\n",
    "# row_util, col_util = week1.evaluate(row_strategy, col_strategy, matrix) ZLE 1) evaluate podla test_week1.py vracia len jednu vec 2) evaluate podla test_week1.py obsahuje paramtre v poradi matrix, row_strategy, col_strategy\n",
    "row_util, col_util = week1.evaluate_zero_sum(row_strategy, col_strategy, matrix)\n",
    "print(f'Utilities: {row_util:.3f}, {col_util:.3f}')"
   ]
  },
  {
   "cell_type": "code",
   "execution_count": 104,
   "id": "2994a357-ab50-4099-b026-1f2298f24849",
   "metadata": {},
   "outputs": [
    {
     "name": "stdout",
     "output_type": "stream",
     "text": [
      "Utilities when the row player plays against a best-responding opponent: -0.600, 0.600\n",
      "Utilities when the column player plays against a best-responding opponent: 0.300, -0.300\n"
     ]
    }
   ],
   "source": [
    "row_util, col_util = week1.evaluate_row_against_best_response(row_strategy, -matrix)\n",
    "print(f'Utilities when the row player plays against a best-responding opponent: {row_util:.3f}, {col_util:.3f}')\n",
    "\n",
    "row_util, col_util = week1.evaluate_col_against_best_response(col_strategy, matrix)\n",
    "print(f'Utilities when the column player plays against a best-responding opponent: {row_util:.3f}, {col_util:.3f}')"
   ]
  },
  {
   "cell_type": "code",
   "execution_count": 105,
   "id": "2116668c-043d-40a2-a5fe-dc5210569121",
   "metadata": {},
   "outputs": [
    {
     "name": "stdout",
     "output_type": "stream",
     "text": [
      "Resulting matrices for the row and the column players: [[3.]], [[3.]]\n",
      "Resulting actions for the row and the column players: [1], [1]\n"
     ]
    }
   ],
   "source": [
    "# Taken from the slides for Week 1\n",
    "matrix1 = np.array([[13, 1, 7], [4, 3, 6], [-1, 2, 8]], dtype=np.float32)\n",
    "matrix2 = np.array([[3, 4, 3], [1, 3, 2], [9, 8, -1]], dtype=np.float32)\n",
    "\n",
    "matrix1, matrix2, actions1, actions2 = week1.iterated_removal_of_dominated_actions(matrix1, matrix2)\n",
    "\n",
    "print(f'Resulting matrices for the row and the column players: {matrix1}, {matrix2}')\n",
    "print(f'Resulting actions for the row and the column players: {actions1}, {actions2}')"
   ]
  },
  {
   "cell_type": "code",
   "execution_count": 106,
   "id": "7b3ca847-eb9b-40d8-8634-a33ad11559ec",
   "metadata": {},
   "outputs": [
    {
     "name": "stdout",
     "output_type": "stream",
     "text": [
      "Resulting matrices for the row and the column players: [[10.]], [[4.]]\n",
      "Resulting actions for the row and the column players: [0], [0]\n"
     ]
    }
   ],
   "source": [
    "matrix1 = np.array([[10, 5, 3], [0, 4, 6], [2, 3, 2]], dtype=np.float32)\n",
    "matrix2 = np.array([[4, 3, 2], [1, 6, 0], [1, 5, 8]], dtype=np.float32)\n",
    "\n",
    "matrix1, matrix2, actions1, actions2 = week1.iterated_removal_of_dominated_actions(matrix1, matrix2)\n",
    "\n",
    "print(f'Resulting matrices for the row and the column players: {matrix1}, {matrix2}')\n",
    "print(f'Resulting actions for the row and the column players: {actions1}, {actions2}')"
   ]
  }
 ],
 "metadata": {
  "kernelspec": {
   "display_name": "Python 3 (ipykernel)",
   "language": "python",
   "name": "python3"
  },
  "language_info": {
   "codemirror_mode": {
    "name": "ipython",
    "version": 3
   },
   "file_extension": ".py",
   "mimetype": "text/x-python",
   "name": "python",
   "nbconvert_exporter": "python",
   "pygments_lexer": "ipython3",
   "version": "3.11.2"
  }
 },
 "nbformat": 4,
 "nbformat_minor": 5
}
